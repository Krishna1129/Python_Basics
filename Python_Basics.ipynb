{
  "nbformat": 4,
  "nbformat_minor": 0,
  "metadata": {
    "colab": {
      "provenance": [],
      "collapsed_sections": [
        "5ynCe-6dvu-g"
      ]
    },
    "kernelspec": {
      "name": "python3",
      "display_name": "Python 3"
    },
    "language_info": {
      "name": "python"
    }
  },
  "cells": [
    {
      "cell_type": "markdown",
      "source": [
        "# Python Basics"
      ],
      "metadata": {
        "id": "1ehKPH2iGnBz"
      }
    },
    {
      "cell_type": "markdown",
      "source": [
        "## Theoretical Questions"
      ],
      "metadata": {
        "id": "5ynCe-6dvu-g"
      }
    },
    {
      "cell_type": "markdown",
      "source": [
        "1. What is Python , and why is it popular?\n",
        "   - Python is high level programming language it is widely use in software development,web applications ,data science and machine learning . The designed of python syntax is very easy to read and understand as similar as english language . Python has extensive libraries .\n",
        "   Python is popular because of its simple and readable syntax , extensive libraries and frameworks , versatility , python has a large and active community of developers who provide support , libraries and documentation .\n"
      ],
      "metadata": {
        "id": "wWywE2dXGuuN"
      }
    },
    {
      "cell_type": "markdown",
      "source": [
        "2. What is an interpreter in Python?\n",
        "   - An interpreter in Python is a program that reads and runs Python code line by line.When you write Python code, the interpreter translates it into a language the computer understands. It does this one line at a time, making it easy to find and fix errors.\n"
      ],
      "metadata": {
        "id": "fTHfREFi4kWT"
      }
    },
    {
      "cell_type": "markdown",
      "source": [
        "3. What are pre-defined keywords in Python?\n",
        "   - Pre-defined keywords in Python are special words that have a fixed meaning and cannot be used as variable names. Python uses these words to understand commands. Some of pre-defined keywords are if, else, elif, for, while, def,  return, import, true, false ."
      ],
      "metadata": {
        "id": "gG8MhPbA5qic"
      }
    },
    {
      "cell_type": "markdown",
      "source": [
        "4. Can keywords be used as variable names?\n",
        "   - No, keywords cannot be used as variable names in Python.Keywords have special meanings in Python.If you use them as variable names, Python will get confused and show an error.\n"
      ],
      "metadata": {
        "id": "nXMKUf6t6hEY"
      }
    },
    {
      "cell_type": "markdown",
      "source": [
        "5. What is mutability in Python?\n",
        "   - Mutability in Python means whether a value can be changed after it is created. If an object is mutable, you can modify its contents without changing its identity ."
      ],
      "metadata": {
        "id": "u1Gy7Ba97Ue8"
      }
    },
    {
      "cell_type": "markdown",
      "source": [
        "6. Why are lists mutable, but tuples are immutable?\n",
        "   - Lists are mutable because they are designed to hold data that can change. You might want to add, remove, or change items in the list during the program's execution.\n",
        "   Tuples are immutable because they are designed to hold data that shouldn't change. Once you create a tuple, its values are fixed."
      ],
      "metadata": {
        "id": "uxfRKth69qiT"
      }
    },
    {
      "cell_type": "markdown",
      "source": [
        "7. What is the difference between “==” and “is” operators in Python?\n",
        "   - Both \"==\" and \"is\" are used to compare objects, but they do it in different ways.\n",
        "   The \"==\" operator checks if the values of two objects are the same.\n",
        "   The \"is\" operator checks if two objects are the same object in memory.\n"
      ],
      "metadata": {
        "id": "vpoSA7oM_SRk"
      }
    },
    {
      "cell_type": "markdown",
      "source": [
        "8. What are logical operators in Python?\n",
        "   - Logical operators in Python are used to combine or compare Boolean values.They help make decisions based on multiple conditions.\n",
        "   The and operator returns True only if both conditions are True.The or operator returns True if at least one condition is True. The not operator reverses the Boolean value. If the condition is True, not makes it False, and if it's False, it makes it True."
      ],
      "metadata": {
        "id": "S9cPTNZsBUxG"
      }
    },
    {
      "cell_type": "markdown",
      "source": [
        "9. What is type casting in Python?\n",
        "   - Type casting in Python means converting one data type into another. You can change a value from one type like integer or string to another type like float or string using type casting.\n",
        "   There are two types of type casting-\n",
        "   Implicit Type Casting\n",
        "   Explicit Type Casting\n"
      ],
      "metadata": {
        "id": "yBLlbAVFMXDR"
      }
    },
    {
      "cell_type": "markdown",
      "source": [
        "10. What is the difference between implicit and explicit type casting?\n",
        "    - Implicit Type Casting: Python does it automatically when converting smaller data types to larger ones, like from int to float.\n",
        "     Explicit Type Casting: You manually convert data types using functions like int, float, or str.\n"
      ],
      "metadata": {
        "id": "fehqTKM_TzCP"
      }
    },
    {
      "cell_type": "markdown",
      "source": [
        "11. What is the purpose of conditional statements in Python?\n",
        "    - Conditional statements in Python help the program make decisions based on certain conditions. They allow the program to do different things depending on whether something is True or False.\n"
      ],
      "metadata": {
        "id": "fBKkmt6GuecQ"
      }
    },
    {
      "cell_type": "markdown",
      "source": [
        "12.  How does the elif statement work ?\n",
        "     - The elif  statement is used when you want to check multiple conditions in a sequence.\n",
        "     First, Python checks the if condition.\n",
        "     If the if condition is False, it moves to the elif condition and checks if it's True.\n",
        "     If the elif condition is True, it runs the code inside that block.\n",
        "     If neither the if nor the elif is True, it can run the else block."
      ],
      "metadata": {
        "id": "c66yyD0EuuY4"
      }
    },
    {
      "cell_type": "markdown",
      "source": [
        "13. What is the difference between for and while loops ?\n",
        "    - Both for and while loops are used to repeat actions in Python, but they work in slightly different ways.\n",
        "     The for loop is used to repeat a block of code a specific number of times or for each item in a sequence\n",
        "     The while loop repeats a block of code as long as a condition is true. It keeps running until the condition becomes false"
      ],
      "metadata": {
        "id": "8Hr3lp-svB-S"
      }
    },
    {
      "cell_type": "markdown",
      "source": [
        "14. Describe a scenario where a while loop is more suitable than a for loop.\n",
        "    - A while loop is useful when you want to keep performing an action until a certain condition is met, and you do not know in advance how many times you will need to repeat it.\n",
        "     Let’s say you're writing a program that simulates a game where a player keeps rolling a dice until they roll a 6. You don’t know how many rolls it will take, so a while loop is the best option here."
      ],
      "metadata": {
        "id": "NaK2ajjnvR24"
      }
    },
    {
      "cell_type": "markdown",
      "source": [
        "## Practical Questions"
      ],
      "metadata": {
        "id": "Y7jsfFcRwDwS"
      }
    },
    {
      "cell_type": "code",
      "source": [
        "# 1. Write a Python program to print \"Hello, World!\" ?\n",
        "print(\"Hello, World!\")\n"
      ],
      "metadata": {
        "id": "jpUADqiexJVG",
        "colab": {
          "base_uri": "https://localhost:8080/"
        },
        "outputId": "5e5895ee-aad6-4fab-9229-aefa8ea8898c"
      },
      "execution_count": null,
      "outputs": [
        {
          "output_type": "stream",
          "name": "stdout",
          "text": [
            "Hello, World!\n"
          ]
        }
      ]
    },
    {
      "cell_type": "code",
      "source": [
        "# 2. Write a Python program that displays your name and age.\n",
        "name = \"Your Name\"\n",
        "age = 21\n",
        "print(\"Name:\", name)\n",
        "print(\"Age:\", age)"
      ],
      "metadata": {
        "id": "ExLDtRuAyoAd"
      },
      "execution_count": null,
      "outputs": []
    },
    {
      "cell_type": "code",
      "source": [
        "# 3. Write code to print all the pre-defined keywords in Python using the keyword library.\n",
        "import keyword\n",
        "print(keyword.kwlist)"
      ],
      "metadata": {
        "id": "leD_O0MN0io0"
      },
      "execution_count": null,
      "outputs": []
    },
    {
      "cell_type": "code",
      "source": [
        "# 4. Write a program that checks if a given word is a Python keyword.\n",
        "import keyword\n",
        "word = input(\"Enter a word: \")\n",
        "if keyword.iskeyword(word):\n",
        "    print(f\"{word} is a Python keyword.\")\n",
        "else:\n",
        "    print(f\"{word} is not a Python keyword.\")"
      ],
      "metadata": {
        "id": "ap8RrZOVCpxm"
      },
      "execution_count": null,
      "outputs": []
    },
    {
      "cell_type": "code",
      "source": [
        "# 5. Create a list and tuple in Python, and demonstrate how attempting to change an element works differently for each.\n",
        "\n",
        "my_list = [1, 2, 3]\n",
        "my_list[1] = 10\n",
        "print(\"List:\", my_list)\n",
        "my_tuple = (1, 2, 3)\n",
        "my_tuple[1] = 10\n",
        "print(\"Tuple:\", my_tuple)"
      ],
      "metadata": {
        "id": "jkEb9EC6DUjS"
      },
      "execution_count": null,
      "outputs": []
    },
    {
      "cell_type": "code",
      "source": [
        "# 6. Write a function to demonstrate the behavior of mutable and immutable arguments.\n",
        "def change_values(a, b):\n",
        "    a = 10  # Immutable (won't change outside)\n",
        "    b.append(4)  # Mutable (will change outside)\n",
        "\n",
        "x = 5  # Immutable\n",
        "y = [1, 2, 3]  # Mutable\n",
        "\n",
        "print(\"Before:\", x, y)\n",
        "change_values(x, y)\n",
        "print(\"After:\", x, y)\n"
      ],
      "metadata": {
        "id": "-AHsoncvJCAD"
      },
      "execution_count": null,
      "outputs": []
    },
    {
      "cell_type": "code",
      "source": [
        "# 7. Write a program that performs basic arithmetic operations on two user-input numbers.\n",
        "num1 = float(input(\"Enter the first number: \"))\n",
        "num2 = float(input(\"Enter the second number: \"))\n",
        "addition = num1 + num2\n",
        "subtraction = num1 - num2\n",
        "multiplication = num1 * num2\n",
        "\n",
        "print(\"Addition:\", addition)\n",
        "print(\"Subtraction:\", subtraction)\n",
        "print(\"Multiplication:\", multiplication)\n",
        "\n"
      ],
      "metadata": {
        "id": "SPgQyDkwVKCt"
      },
      "execution_count": null,
      "outputs": []
    },
    {
      "cell_type": "code",
      "source": [
        "# 8.  Write a program to demonstrate the use of logical operators.\n",
        "a = True\n",
        "b = False\n",
        "print(\"Logical AND:\", a and b)\n",
        "print(\"Logical OR:\", a or b)\n",
        "print(\"Logical NOT:\", not a)\n"
      ],
      "metadata": {
        "id": "t1JH09KRYJQu"
      },
      "execution_count": null,
      "outputs": []
    },
    {
      "cell_type": "code",
      "source": [
        "# 9.  Write a Python program to convert user input from string to integer, float, and boolean types.\n",
        "user_input = input(\"Enter a value: \")\n",
        "\n",
        "try:\n",
        "    int_value = int(user_input)\n",
        "    print(\"Integer:\", int_value)\n",
        "except ValueError:\n",
        "    print(\"Cannot convert to integer.\")\n",
        "\n",
        "try:\n",
        "    float_value = float(user_input)\n",
        "    print(\"Float:\", float_value)\n",
        "except ValueError:\n",
        "    print(\"Cannot convert to float.\")\n",
        "\n",
        "bool_value = user_input.lower() in (\"true\", \"1\")\n",
        "print(\"Boolean:\", bool_value)\n"
      ],
      "metadata": {
        "id": "9SQVI927byIX"
      },
      "execution_count": null,
      "outputs": []
    },
    {
      "cell_type": "code",
      "source": [
        "# 10. Write code to demonstrate type casting with list elements.\n",
        "\n",
        "user_input = input(\"Enter a list of values separated by spaces: \").split()\n",
        "int_list = [int(i) for i in user_input if i.isdigit()]\n",
        "print(\"Integer List:\", int_list)\n",
        "\n",
        "float_list = [float(i) for i in user_input if i.replace('.', '', 1).isdigit()]\n",
        "print(\"Float List:\", float_list)\n",
        "\n",
        "bool_list = [i.lower() in (\"true\", \"1\") for i in user_input]\n",
        "print(\"Boolean List:\", bool_list)\n"
      ],
      "metadata": {
        "id": "r8sLReYATRVy"
      },
      "execution_count": null,
      "outputs": []
    },
    {
      "cell_type": "code",
      "source": [
        "# 11. Write a program that checks if a number is positive, negative, or zero.\n",
        "\n",
        "num = float(input(\"Enter a number: \"))\n",
        "\n",
        "if num > 0:\n",
        "    print(\"The number is positive.\")\n",
        "elif num < 0:\n",
        "    print(\"The number is negative.\")\n",
        "else:\n",
        "    print(\"The number is zero.\")\n"
      ],
      "metadata": {
        "id": "GgHB3XkZUrR3"
      },
      "execution_count": null,
      "outputs": []
    },
    {
      "cell_type": "code",
      "source": [
        "# 12.  Write a for loop to print numbers from 1 to 10?\n",
        "for num in range(1, 11):\n",
        "    print(num)\n"
      ],
      "metadata": {
        "id": "pPmj33V0VPZq"
      },
      "execution_count": null,
      "outputs": []
    },
    {
      "cell_type": "code",
      "source": [
        "# 13. Write a Python program to find the sum of all even numbers between 1 and 50.\n",
        "\n",
        "even_sum = 0\n",
        "for number in range(1, 51):\n",
        "    if number % 2 == 0:\n",
        "        even_sum += number\n",
        "print(\"The sum of all even numbers between 1 and 50 is:\", even_sum)\n"
      ],
      "metadata": {
        "id": "2wZSOX2QVidz"
      },
      "execution_count": null,
      "outputs": []
    },
    {
      "cell_type": "code",
      "source": [
        "# 14. Write a program to reverse a string using a while loop.\n",
        "\n",
        "input_string = \"hello\"\n",
        "reversed_string = \"\"\n",
        "index = len(input_string) - 1\n",
        "while index >= 0:\n",
        "    reversed_string += input_string[index]\n",
        "    index -= 1\n",
        "print(\"Reversed string:\", reversed_string)\n"
      ],
      "metadata": {
        "id": "UaERjpHpWVhT"
      },
      "execution_count": null,
      "outputs": []
    },
    {
      "cell_type": "code",
      "source": [
        "# 15.  Write a Python program to calculate the factorial of a number provided by the user using a while loop.\n",
        "\n",
        "num = int(input(\"Enter a number to find its factorial: \"))\n",
        "\n",
        "factorial = 1\n",
        "i = 1\n",
        "while i <= num:\n",
        "    factorial *= i\n",
        "    i += 1\n",
        "print(f\"The factorial of {num} is: {factorial}\")\n"
      ],
      "metadata": {
        "id": "K5qNjlWkXSou"
      },
      "execution_count": null,
      "outputs": []
    }
  ]
}